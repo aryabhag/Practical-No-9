{
  "nbformat": 4,
  "nbformat_minor": 0,
  "metadata": {
    "colab": {
      "name": "Untitled6.ipynb",
      "provenance": []
    },
    "kernelspec": {
      "name": "python3",
      "display_name": "Python 3"
    },
    "language_info": {
      "name": "python"
    }
  },
  "cells": [
    {
      "cell_type": "markdown",
      "source": [
        "Practical No:9\n",
        "Write a python program to convert temperature to and from celsius,farhenheit."
      ],
      "metadata": {
        "id": "MtFtncpnyU8Y"
      }
    },
    {
      "cell_type": "code",
      "execution_count": 2,
      "metadata": {
        "colab": {
          "base_uri": "https://localhost:8080/"
        },
        "id": "I8PQndZwwgZe",
        "outputId": "b0b7960b-c71c-4910-c560-9fc7ff562d06"
      },
      "outputs": [
        {
          "output_type": "stream",
          "name": "stdout",
          "text": [
            "Options are \n",
            "\n",
            "1.Convert temperatures from Celsius to Fahrenheit \n",
            "\n",
            "2.Convert temperatures from Fahrenheit to Celsius \n",
            "\n",
            "Choose any Option(1 or 2) : 1\n",
            "Convert temperatures from Celsius to Fahrenheit \n",
            "\n",
            "Enter Temperature in Celsius: 50\n",
            "Temperature in Fahrenheit = 122.0\n"
          ]
        }
      ],
      "source": [
        "print(\"Options are \\n\")\n",
        "print(\"1.Convert temperatures from Celsius to Fahrenheit \\n\")\n",
        "print(\"2.Convert temperatures from Fahrenheit to Celsius \\n\")\n",
        "opt=int(input(\"Choose any Option(1 or 2) : \"))\n",
        "if opt == 1:\n",
        "    print(\"Convert temperatures from Celsius to Fahrenheit \\n\")\n",
        "    cel = float(input(\"Enter Temperature in Celsius: \"))\n",
        "    fahr = (cel*9/5)+32\n",
        "    print(\"Temperature in Fahrenheit =\",fahr)\n",
        "elif opt == 2:\n",
        "    print(\"Convert temperatures from Fahrenheit to Celsius \\n\")\n",
        "    fahr = float(input(\"Enter Temperature in Fahrenheit: \"))\n",
        "    cel=(fahr-32)*5/9;\n",
        "    print(\"Temperature in Celsius =\",cel)\n",
        "else:\n",
        "    print(\"Invalid Option\")"
      ]
    },
    {
      "cell_type": "code",
      "source": [
        "temp = input(\"Input the  temperature you like to convert? (e.g., 120F, 50C etc.) : \")\n",
        "degree = int(temp[:-1])\n",
        "i_convention = temp[-1]\n",
        "\n",
        "if i_convention.upper() == \"C\":\n",
        "  result = int(round((9 * degree) / 5 + 32))\n",
        "  o_convention = \"Fahrenheit\"\n",
        "elif i_convention.upper() == \"F\":\n",
        "  result = int(round((degree - 32) * 5 / 9))\n",
        "  o_convention = \"Celsius\"\n",
        "else:\n",
        "  print(\"Input proper convention.\")\n",
        "  quit()\n",
        "print(\"The temperature in\", o_convention, \"is\", result, \"degrees.\")"
      ],
      "metadata": {
        "colab": {
          "base_uri": "https://localhost:8080/"
        },
        "id": "F0km2wSGxGA5",
        "outputId": "0655b5fe-3d25-47e2-ac6b-d0bcbade49fa"
      },
      "execution_count": 3,
      "outputs": [
        {
          "output_type": "stream",
          "name": "stdout",
          "text": [
            "Input the  temperature you like to convert? (e.g., 120F, 50C etc.) : 120F\n",
            "The temperature in Celsius is 49 degrees.\n"
          ]
        }
      ]
    }
  ]
}